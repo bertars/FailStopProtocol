{
 "cells": [
  {
   "cell_type": "code",
   "execution_count": 65,
   "metadata": {},
   "outputs": [],
   "source": [
    "from qiskit import QuantumCircuit, QuantumRegister, ClassicalRegister, Aer, assemble\n",
    "import numpy as np\n",
    "import math\n",
    "from qiskit.visualization import plot_histogram, plot_bloch_multivector, array_to_latex\n",
    "from threading import Thread, Lock, Condition"
   ]
  },
  {
   "cell_type": "code",
   "execution_count": 66,
   "metadata": {},
   "outputs": [],
   "source": [
    "num_players = 2\n",
    "tosses = pow(num_players, 2)\n",
    "k = 3*np.log2(num_players)\n",
    "num_qubits = math.ceil(k)\n",
    "upper_bound = pow(num_players,3)\n",
    "\n",
    "lock = Lock()\n",
    "\n",
    "c_messages = []\n",
    "l_messages = []\n",
    "\n",
    "c_measurements = []\n",
    "l_measurements = []"
   ]
  },
  {
   "cell_type": "code",
   "execution_count": 67,
   "metadata": {},
   "outputs": [],
   "source": [
    "def coin_toss(player_id, condition):  \n",
    "\n",
    "    coin = QuantumCircuit(num_players)\n",
    "\n",
    "    coin.h(0)\n",
    "\n",
    "    for qubit in range(1,num_players):\n",
    "        coin.cx(0,qubit)\n",
    "\n",
    "    # coin.barrier()\n",
    "\n",
    "    lock.acquire()\n",
    "    try:\n",
    "        for receiver in range(num_players):\n",
    "            coin_results = [player_id, receiver, coin]\n",
    "            \n",
    "            c_messages.append(coin_results)\n",
    "            # print(f'Player {player_id} tossed coin for player {receiver}')\n",
    "    finally:\n",
    "        lock.release()   \n",
    "\n",
    "    with condition:\n",
    "        if(len(c_messages) == tosses):\n",
    "            condition.notify_all()\n",
    "\n",
    "    return coin"
   ]
  },
  {
   "cell_type": "code",
   "execution_count": 68,
   "metadata": {},
   "outputs": [
    {
     "data": {
      "text/html": [
       "<pre style=\"word-wrap: normal;white-space: pre;background: #fff0;line-height: 1.1;font-family: &quot;Courier New&quot;,Courier,monospace\">     ┌───┐     \n",
       "q_0: ┤ H ├──■──\n",
       "     └───┘┌─┴─┐\n",
       "q_1: ─────┤ X ├\n",
       "          └───┘</pre>"
      ],
      "text/plain": [
       "     ┌───┐     \n",
       "q_0: ┤ H ├──■──\n",
       "     └───┘┌─┴─┐\n",
       "q_1: ─────┤ X ├\n",
       "          └───┘"
      ]
     },
     "execution_count": 68,
     "metadata": {},
     "output_type": "execute_result"
    }
   ],
   "source": [
    "cond = Condition()\n",
    "coin = coin_toss(1, cond)\n",
    "coin.draw()"
   ]
  },
  {
   "cell_type": "code",
   "execution_count": 69,
   "metadata": {},
   "outputs": [
    {
     "data": {
      "image/png": "[encoded data removed]",
      "text/plain": [
       "<Figure size 504x360 with 1 Axes>"
      ]
     },
     "execution_count": 69,
     "metadata": {},
     "output_type": "execute_result"
    }
   ],
   "source": [
    "simulator = Aer.get_backend('aer_simulator')\n",
    "coin.save_statevector()\n",
    "result = simulator.run(assemble(coin)).result()\n",
    "state = result.get_statevector()\n",
    "\n",
    "plot_histogram(simulator.run(assemble(coin)).result().get_counts())"
   ]
  },
  {
   "cell_type": "code",
   "execution_count": 70,
   "metadata": {},
   "outputs": [
    {
     "data": {
      "text/latex": [
       "$$\n",
       "\\text{Statevector} = \n",
       "\\begin{bmatrix}\n",
       "\\tfrac{1}{\\sqrt{2}} & 0 & 0 & \\tfrac{1}{\\sqrt{2}}  \\\\\n",
       " \\end{bmatrix}\n",
       "$$"
      ],
      "text/plain": [
       "<IPython.core.display.Latex object>"
      ]
     },
     "execution_count": 70,
     "metadata": {},
     "output_type": "execute_result"
    }
   ],
   "source": [
    "array_to_latex(state, prefix=\"\\\\text{Statevector} = \")"
   ]
  },
  {
   "cell_type": "code",
   "execution_count": 71,
   "metadata": {},
   "outputs": [],
   "source": [
    "def leader_toss(player_id, condition):\n",
    "    \n",
    "    l_registers = []\n",
    "\n",
    "    for a in range(num_players):\n",
    "        q_name = 'q' + str(a)\n",
    "        q_reg = QuantumRegister(num_qubits, q_name)\n",
    "        l_registers.append(q_reg)\n",
    "\n",
    "\n",
    "    leader = QuantumCircuit(*l_registers)\n",
    "\n",
    "    # cr = ClassicalRegister(num_players*num_qubits, 'c')\n",
    "\n",
    "    # leader.add_register(cr)\n",
    "\n",
    "    for qubit in range(num_qubits):\n",
    "        leader.h(l_registers[0][qubit])\n",
    "    for a in range(1,num_players):\n",
    "        for qubit in range(num_qubits):\n",
    "            leader.cx(l_registers[0][qubit], l_registers[a][qubit])\n",
    "\n",
    "    leader.barrier()   \n",
    "\n",
    "    lock.acquire()\n",
    "    try:\n",
    "        for receiver in range(num_players):\n",
    "            leader_results = [player_id, receiver, leader]\n",
    "\n",
    "            l_messages.append(leader_results)\n",
    "            print(f'Player {player_id} chose leader for player {receiver}')\n",
    "    finally:\n",
    "        lock.release()\n",
    "\n",
    "    with condition:\n",
    "        if(len(l_messages) == tosses):\n",
    "            condition.notify_all()   \n",
    "\n",
    "    return leader"
   ]
  },
  {
   "cell_type": "code",
   "execution_count": 72,
   "metadata": {},
   "outputs": [
    {
     "name": "stdout",
     "output_type": "stream",
     "text": [
      "Player 1 chose leader for player 0\n",
      "Player 1 chose leader for player 1\n"
     ]
    },
    {
     "data": {
      "text/html": [
       "<pre style=\"word-wrap: normal;white-space: pre;background: #fff0;line-height: 1.1;font-family: &quot;Courier New&quot;,Courier,monospace\">      ┌───┐                ░ \n",
       "q0_0: ┤ H ├──■─────────────░─\n",
       "      ├───┤  │             ░ \n",
       "q0_1: ┤ H ├──┼────■────────░─\n",
       "      ├───┤  │    │        ░ \n",
       "q0_2: ┤ H ├──┼────┼────■───░─\n",
       "      └───┘┌─┴─┐  │    │   ░ \n",
       "q1_0: ─────┤ X ├──┼────┼───░─\n",
       "           └───┘┌─┴─┐  │   ░ \n",
       "q1_1: ──────────┤ X ├──┼───░─\n",
       "                └───┘┌─┴─┐ ░ \n",
       "q1_2: ───────────────┤ X ├─░─\n",
       "                     └───┘ ░ </pre>"
      ],
      "text/plain": [
       "      ┌───┐                ░ \n",
       "q0_0: ┤ H ├──■─────────────░─\n",
       "      ├───┤  │             ░ \n",
       "q0_1: ┤ H ├──┼────■────────░─\n",
       "      ├───┤  │    │        ░ \n",
       "q0_2: ┤ H ├──┼────┼────■───░─\n",
       "      └───┘┌─┴─┐  │    │   ░ \n",
       "q1_0: ─────┤ X ├──┼────┼───░─\n",
       "           └───┘┌─┴─┐  │   ░ \n",
       "q1_1: ──────────┤ X ├──┼───░─\n",
       "                └───┘┌─┴─┐ ░ \n",
       "q1_2: ───────────────┤ X ├─░─\n",
       "                     └───┘ ░ "
      ]
     },
     "execution_count": 72,
     "metadata": {},
     "output_type": "execute_result"
    }
   ],
   "source": [
    "l_cond = Condition()\n",
    "leader = leader_toss(1, l_cond)\n",
    "leader.draw()"
   ]
  },
  {
   "cell_type": "code",
   "execution_count": 73,
   "metadata": {},
   "outputs": [
    {
     "data": {
      "image/png": "[encoded data removed]",
      "text/plain": [
       "<Figure size 1440x864 with 1 Axes>"
      ]
     },
     "execution_count": 73,
     "metadata": {},
     "output_type": "execute_result"
    }
   ],
   "source": [
    "leader.save_statevector()\n",
    "l_state = simulator.run(assemble(leader)).result().get_statevector()\n",
    "l_hist = simulator.run(assemble(leader)).result().get_counts()\n",
    "plot_histogram(l_hist, figsize=(20,12))\n"
   ]
  },
  {
   "cell_type": "code",
   "execution_count": 74,
   "metadata": {},
   "outputs": [
    {
     "data": {
      "text/latex": [
       "$$\n",
       "\\text{Statevector} = \n",
       "\\begin{bmatrix}\n",
       "\\tfrac{1}{\\sqrt{8}} & 0 & 0 & 0 & \\cdots & 0 & 0 & \\tfrac{1}{\\sqrt{8}}  \\\\\n",
       " \\end{bmatrix}\n",
       "$$"
      ],
      "text/plain": [
       "<IPython.core.display.Latex object>"
      ]
     },
     "execution_count": 74,
     "metadata": {},
     "output_type": "execute_result"
    }
   ],
   "source": [
    "array_to_latex(l_state, prefix=\"\\\\text{Statevector} = \")"
   ]
  }
 ],
 "metadata": {
  "kernelspec": {
   "display_name": "Python 3.10.4 ('Thesis')",
   "language": "python",
   "name": "python3"
  },
  "language_info": {
   "codemirror_mode": {
    "name": "ipython",
    "version": 3
   },
   "file_extension": ".py",
   "mimetype": "text/x-python",
   "name": "python",
   "nbconvert_exporter": "python",
   "pygments_lexer": "ipython3",
   "version": "3.10.4"
  },
  "orig_nbformat": 4,
  "vscode": {
   "interpreter": {
    "hash": "3dbd9e2990223039e329de578a742a4447debd7bb627d781f990e152af205d0d"
   }
  }
 },
 "nbformat": 4,
 "nbformat_minor": 2
}
