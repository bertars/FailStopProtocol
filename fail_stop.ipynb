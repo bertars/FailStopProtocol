{
 "cells": [
  {
   "cell_type": "code",
   "execution_count": 31,
   "metadata": {},
   "outputs": [],
   "source": [
    "from qiskit import QuantumCircuit, QuantumRegister, Aer, assemble\n",
    "import numpy as np\n",
    "from qiskit.visualization import plot_histogram, plot_bloch_multivector, array_to_latex\n",
    "\n",
    "num_players = 5\n",
    "player_id = 1"
   ]
  },
  {
   "cell_type": "code",
   "execution_count": 32,
   "metadata": {},
   "outputs": [
    {
     "data": {
      "image/png": "[encoded data removed]",
      "text/plain": [
       "<Figure size 504x360 with 1 Axes>"
      ]
     },
     "execution_count": 32,
     "metadata": {},
     "output_type": "execute_result"
    }
   ],
   "source": [
    "messages = []\n",
    "coin = QuantumCircuit(num_players)\n",
    "\n",
    "coin.h(0)\n",
    "\n",
    "for qubit in range(num_players - 1):\n",
    "    coin.cx(qubit,qubit+1)\n",
    "\n",
    "coin.draw()\n",
    "\n",
    "simulator = Aer.get_backend('aer_simulator')\n",
    "coin.save_statevector()\n",
    "state = simulator.run(assemble(coin)).result().get_statevector()\n",
    "\n",
    "#array_to_latex(state, prefix=\"\\\\text{Statevector} = \")\n",
    "plot_histogram(simulator.run(assemble(coin)).result().get_counts())\n",
    "\n",
    "# bits = coin.qubits\n",
    "# for k_player in range(num_players):\n",
    "#     coin_results = [player_id, k_player, bits[k_player]]\n",
    "#     messages.append(coin_results)\n",
    "\n"
   ]
  },
  {
   "cell_type": "code",
   "execution_count": 34,
   "metadata": {},
   "outputs": [
    {
     "ename": "CircuitError",
     "evalue": "\"Expected an instance of Qubit, Clbit, or AncillaQubit, but was passed QuantumRegister(7, 'q20')\"",
     "output_type": "error",
     "traceback": [
      "\u001b[0;31m---------------------------------------------------------------------------\u001b[0m",
      "\u001b[0;31mCircuitError\u001b[0m                              Traceback (most recent call last)",
      "\u001b[1;32m/home/berta/Desktop/Thesis/ByzantineAgreement/fail_stop.ipynb Cell 3'\u001b[0m in \u001b[0;36m<cell line: 11>\u001b[0;34m()\u001b[0m\n\u001b[1;32m      <a href='vscode-notebook-cell:/home/berta/Desktop/Thesis/ByzantineAgreement/fail_stop.ipynb#ch0000003?line=7'>8</a>\u001b[0m     reg \u001b[39m=\u001b[39m QuantumRegister(num_qubits)\n\u001b[1;32m      <a href='vscode-notebook-cell:/home/berta/Desktop/Thesis/ByzantineAgreement/fail_stop.ipynb#ch0000003?line=8'>9</a>\u001b[0m     registers\u001b[39m.\u001b[39mappend(reg)\n\u001b[0;32m---> <a href='vscode-notebook-cell:/home/berta/Desktop/Thesis/ByzantineAgreement/fail_stop.ipynb#ch0000003?line=10'>11</a>\u001b[0m leader \u001b[39m=\u001b[39m QuantumCircuit(registers)\n\u001b[1;32m     <a href='vscode-notebook-cell:/home/berta/Desktop/Thesis/ByzantineAgreement/fail_stop.ipynb#ch0000003?line=11'>12</a>\u001b[0m leader\u001b[39m.\u001b[39mdraw()\n",
      "File \u001b[0;32m~/anaconda3/envs/Thesis/lib/python3.10/site-packages/qiskit/circuit/quantumcircuit.py:271\u001b[0m, in \u001b[0;36mQuantumCircuit.__init__\u001b[0;34m(self, name, global_phase, metadata, *regs)\u001b[0m\n\u001b[1;32m    <a href='file:///home/berta/anaconda3/envs/Thesis/lib/python3.10/site-packages/qiskit/circuit/quantumcircuit.py?line=268'>269</a>\u001b[0m \u001b[39mself\u001b[39m\u001b[39m.\u001b[39m_ancillas \u001b[39m=\u001b[39m []\n\u001b[1;32m    <a href='file:///home/berta/anaconda3/envs/Thesis/lib/python3.10/site-packages/qiskit/circuit/quantumcircuit.py?line=269'>270</a>\u001b[0m \u001b[39mself\u001b[39m\u001b[39m.\u001b[39m_calibrations \u001b[39m=\u001b[39m defaultdict(\u001b[39mdict\u001b[39m)\n\u001b[0;32m--> <a href='file:///home/berta/anaconda3/envs/Thesis/lib/python3.10/site-packages/qiskit/circuit/quantumcircuit.py?line=270'>271</a>\u001b[0m \u001b[39mself\u001b[39;49m\u001b[39m.\u001b[39;49madd_register(\u001b[39m*\u001b[39;49mregs)\n\u001b[1;32m    <a href='file:///home/berta/anaconda3/envs/Thesis/lib/python3.10/site-packages/qiskit/circuit/quantumcircuit.py?line=272'>273</a>\u001b[0m \u001b[39m# Parameter table tracks instructions with variable parameters.\u001b[39;00m\n\u001b[1;32m    <a href='file:///home/berta/anaconda3/envs/Thesis/lib/python3.10/site-packages/qiskit/circuit/quantumcircuit.py?line=273'>274</a>\u001b[0m \u001b[39mself\u001b[39m\u001b[39m.\u001b[39m_parameter_table \u001b[39m=\u001b[39m ParameterTable()\n",
      "File \u001b[0;32m~/anaconda3/envs/Thesis/lib/python3.10/site-packages/qiskit/circuit/quantumcircuit.py:1366\u001b[0m, in \u001b[0;36mQuantumCircuit.add_register\u001b[0;34m(self, *regs)\u001b[0m\n\u001b[1;32m   <a href='file:///home/berta/anaconda3/envs/Thesis/lib/python3.10/site-packages/qiskit/circuit/quantumcircuit.py?line=1360'>1361</a>\u001b[0m             \u001b[39mself\u001b[39m\u001b[39m.\u001b[39m_clbit_indices[bit] \u001b[39m=\u001b[39m BitLocations(\n\u001b[1;32m   <a href='file:///home/berta/anaconda3/envs/Thesis/lib/python3.10/site-packages/qiskit/circuit/quantumcircuit.py?line=1361'>1362</a>\u001b[0m                 \u001b[39mlen\u001b[39m(\u001b[39mself\u001b[39m\u001b[39m.\u001b[39m_clbits) \u001b[39m-\u001b[39m \u001b[39m1\u001b[39m, [(register, idx)]\n\u001b[1;32m   <a href='file:///home/berta/anaconda3/envs/Thesis/lib/python3.10/site-packages/qiskit/circuit/quantumcircuit.py?line=1362'>1363</a>\u001b[0m             )\n\u001b[1;32m   <a href='file:///home/berta/anaconda3/envs/Thesis/lib/python3.10/site-packages/qiskit/circuit/quantumcircuit.py?line=1364'>1365</a>\u001b[0m \u001b[39melif\u001b[39;00m \u001b[39misinstance\u001b[39m(register, \u001b[39mlist\u001b[39m):\n\u001b[0;32m-> <a href='file:///home/berta/anaconda3/envs/Thesis/lib/python3.10/site-packages/qiskit/circuit/quantumcircuit.py?line=1365'>1366</a>\u001b[0m     \u001b[39mself\u001b[39;49m\u001b[39m.\u001b[39;49madd_bits(register)\n\u001b[1;32m   <a href='file:///home/berta/anaconda3/envs/Thesis/lib/python3.10/site-packages/qiskit/circuit/quantumcircuit.py?line=1366'>1367</a>\u001b[0m \u001b[39melse\u001b[39;00m:\n\u001b[1;32m   <a href='file:///home/berta/anaconda3/envs/Thesis/lib/python3.10/site-packages/qiskit/circuit/quantumcircuit.py?line=1367'>1368</a>\u001b[0m     \u001b[39mraise\u001b[39;00m CircuitError(\u001b[39m\"\u001b[39m\u001b[39mexpected a register\u001b[39m\u001b[39m\"\u001b[39m)\n",
      "File \u001b[0;32m~/anaconda3/envs/Thesis/lib/python3.10/site-packages/qiskit/circuit/quantumcircuit.py:1386\u001b[0m, in \u001b[0;36mQuantumCircuit.add_bits\u001b[0;34m(self, bits)\u001b[0m\n\u001b[1;32m   <a href='file:///home/berta/anaconda3/envs/Thesis/lib/python3.10/site-packages/qiskit/circuit/quantumcircuit.py?line=1383'>1384</a>\u001b[0m     \u001b[39mself\u001b[39m\u001b[39m.\u001b[39m_clbit_indices[bit] \u001b[39m=\u001b[39m BitLocations(\u001b[39mlen\u001b[39m(\u001b[39mself\u001b[39m\u001b[39m.\u001b[39m_clbits) \u001b[39m-\u001b[39m \u001b[39m1\u001b[39m, [])\n\u001b[1;32m   <a href='file:///home/berta/anaconda3/envs/Thesis/lib/python3.10/site-packages/qiskit/circuit/quantumcircuit.py?line=1384'>1385</a>\u001b[0m \u001b[39melse\u001b[39;00m:\n\u001b[0;32m-> <a href='file:///home/berta/anaconda3/envs/Thesis/lib/python3.10/site-packages/qiskit/circuit/quantumcircuit.py?line=1385'>1386</a>\u001b[0m     \u001b[39mraise\u001b[39;00m CircuitError(\n\u001b[1;32m   <a href='file:///home/berta/anaconda3/envs/Thesis/lib/python3.10/site-packages/qiskit/circuit/quantumcircuit.py?line=1386'>1387</a>\u001b[0m         \u001b[39m\"\u001b[39m\u001b[39mExpected an instance of Qubit, Clbit, or \u001b[39m\u001b[39m\"\u001b[39m\n\u001b[1;32m   <a href='file:///home/berta/anaconda3/envs/Thesis/lib/python3.10/site-packages/qiskit/circuit/quantumcircuit.py?line=1387'>1388</a>\u001b[0m         \u001b[39m\"\u001b[39m\u001b[39mAncillaQubit, but was passed \u001b[39m\u001b[39m{}\u001b[39;00m\u001b[39m\"\u001b[39m\u001b[39m.\u001b[39mformat(bit)\n\u001b[1;32m   <a href='file:///home/berta/anaconda3/envs/Thesis/lib/python3.10/site-packages/qiskit/circuit/quantumcircuit.py?line=1388'>1389</a>\u001b[0m     )\n",
      "\u001b[0;31mCircuitError\u001b[0m: \"Expected an instance of Qubit, Clbit, or AncillaQubit, but was passed QuantumRegister(7, 'q20')\""
     ]
    }
   ],
   "source": [
    "k = 3*np.log2(num_players)\n",
    "num_qubits = np.around(k)\n",
    "upper_bound = pow(num_players,3)\n",
    "\n",
    "registers = [QuantumRegister]\n",
    "\n",
    "for a in range(num_players):\n",
    "    reg = QuantumRegister(num_qubits)\n",
    "    registers.append(reg)\n",
    "\n",
    "leader = QuantumCircuit(registers)\n",
    "leader.draw()\n",
    "\n",
    "#needs to represent every number from 1 to upper_bound\n"
   ]
  }
 ],
 "metadata": {
  "interpreter": {
   "hash": "3dbd9e2990223039e329de578a742a4447debd7bb627d781f990e152af205d0d"
  },
  "kernelspec": {
   "display_name": "Python 3.10.4 ('Thesis')",
   "language": "python",
   "name": "python3"
  },
  "language_info": {
   "name": "python",
   "version": "3.10.4"
  },
  "orig_nbformat": 4
 },
 "nbformat": 4,
 "nbformat_minor": 2
}
