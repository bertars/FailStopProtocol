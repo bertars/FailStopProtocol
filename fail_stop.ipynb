{
 "cells": [
  {
   "cell_type": "code",
   "execution_count": 50,
   "metadata": {},
   "outputs": [],
   "source": [
    "from qiskit import QuantumCircuit, QuantumRegister, Aer, assemble\n",
    "import numpy as np\n",
    "from qiskit.visualization import plot_histogram, plot_bloch_multivector, array_to_latex\n",
    "\n",
    "num_players = 3\n",
    "player_id = 1"
   ]
  },
  {
   "cell_type": "code",
   "execution_count": 51,
   "metadata": {},
   "outputs": [
    {
     "data": {
      "image/png": "[encoded data removed]",
      "text/plain": [
       "<Figure size 504x360 with 1 Axes>"
      ]
     },
     "execution_count": 51,
     "metadata": {},
     "output_type": "execute_result"
    }
   ],
   "source": [
    "messages = []\n",
    "coin = QuantumCircuit(num_players)\n",
    "\n",
    "coin.h(0)\n",
    "\n",
    "for qubit in range(num_players - 1):\n",
    "    coin.cx(qubit,qubit+1)\n",
    "\n",
    "coin.draw()\n",
    "\n",
    "simulator = Aer.get_backend('aer_simulator')\n",
    "coin.save_statevector()\n",
    "state = simulator.run(assemble(coin)).result().get_statevector()\n",
    "\n",
    "#array_to_latex(state, prefix=\"\\\\text{Statevector} = \")\n",
    "plot_histogram(simulator.run(assemble(coin)).result().get_counts())\n",
    "\n",
    "# bits = coin.qubits\n",
    "# for k_player in range(num_players):\n",
    "#     coin_results = [player_id, k_player, bits[k_player]]\n",
    "#     messages.append(coin_results)\n",
    "\n"
   ]
  },
  {
   "cell_type": "code",
   "execution_count": 54,
   "metadata": {},
   "outputs": [
    {
     "ename": "NameError",
     "evalue": "name 'q0' is not defined",
     "output_type": "error",
     "traceback": [
      "\u001b[0;31m---------------------------------------------------------------------------\u001b[0m",
      "\u001b[0;31mNameError\u001b[0m                                 Traceback (most recent call last)",
      "\u001b[1;32m/home/berta/Desktop/Thesis/ByzantineAgreement/fail_stop.ipynb Cell 3'\u001b[0m in \u001b[0;36m<cell line: 13>\u001b[0;34m()\u001b[0m\n\u001b[1;32m     <a href='vscode-notebook-cell:/home/berta/Desktop/Thesis/ByzantineAgreement/fail_stop.ipynb#ch0000003?line=12'>13</a>\u001b[0m \u001b[39mfor\u001b[39;00m a \u001b[39min\u001b[39;00m \u001b[39mrange\u001b[39m(num_players):\n\u001b[1;32m     <a href='vscode-notebook-cell:/home/berta/Desktop/Thesis/ByzantineAgreement/fail_stop.ipynb#ch0000003?line=13'>14</a>\u001b[0m     name \u001b[39m=\u001b[39m \u001b[39m'\u001b[39m\u001b[39mq\u001b[39m\u001b[39m'\u001b[39m \u001b[39m+\u001b[39m \u001b[39mstr\u001b[39m(a)\n\u001b[0;32m---> <a href='vscode-notebook-cell:/home/berta/Desktop/Thesis/ByzantineAgreement/fail_stop.ipynb#ch0000003?line=14'>15</a>\u001b[0m     leader\u001b[39m.\u001b[39mh(q0[\u001b[39m0\u001b[39m])\n\u001b[1;32m     <a href='vscode-notebook-cell:/home/berta/Desktop/Thesis/ByzantineAgreement/fail_stop.ipynb#ch0000003?line=16'>17</a>\u001b[0m leader\u001b[39m.\u001b[39mdraw()\n",
      "\u001b[0;31mNameError\u001b[0m: name 'q0' is not defined"
     ]
    }
   ],
   "source": [
    "k = 3*np.log2(num_players)\n",
    "num_qubits = np.around(k)\n",
    "upper_bound = pow(num_players,3)\n",
    "\n",
    "registers = []\n",
    "\n",
    "for a in range(num_players):\n",
    "    name = 'q' + str(a)\n",
    "    reg = QuantumRegister(num_qubits, name)\n",
    "    registers.append(reg)\n",
    "\n",
    "leader = QuantumCircuit(*registers)\n",
    "for a in range(num_players):\n",
    "    name = 'q' + str(a)\n",
    "    leader.h(registers[a])\n",
    "\n",
    "leader.draw()\n",
    "#needs to represent every number from 1 to upper_bound\n"
   ]
  }
 ],
 "metadata": {
  "interpreter": {
   "hash": "3dbd9e2990223039e329de578a742a4447debd7bb627d781f990e152af205d0d"
  },
  "kernelspec": {
   "display_name": "Python 3.10.4 ('Thesis')",
   "language": "python",
   "name": "python3"
  },
  "language_info": {
   "name": "python",
   "version": "3.10.4"
  },
  "orig_nbformat": 4
 },
 "nbformat": 4,
 "nbformat_minor": 2
}
